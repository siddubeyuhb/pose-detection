{
 "cells": [
  {
   "cell_type": "code",
   "execution_count": 1,
   "id": "bd77dc52-5604-4bfc-ae7d-af63a7e14b2b",
   "metadata": {},
   "outputs": [],
   "source": [
    "##########################\n",
    "# Knee Bend Pose Problem #\n",
    "#    Siddhartha Dubey    #\n",
    "# thesiddubey@gmail.com  #\n",
    "##########################"
   ]
  },
  {
   "cell_type": "code",
   "execution_count": 2,
   "id": "2829a64c",
   "metadata": {},
   "outputs": [],
   "source": [
    "import cv2\n",
    "import mediapipe as mp\n",
    "import os\n",
    "import numpy as np\n",
    "import math \n",
    "import time\n",
    "mp_drawing = mp.solutions.drawing_utils\n",
    "mp_pose = mp.solutions.pose\n",
    "from IPython.display import Video\n",
    "from matplotlib import pyplot as plt\n",
    "%matplotlib inline"
   ]
  },
  {
   "cell_type": "code",
   "execution_count": 5,
   "id": "c495f07b",
   "metadata": {},
   "outputs": [],
   "source": [
    "def findDistance(x1,y1,x2,y2):\n",
    "    dist = math.sqrt((x2-x1)**2 + (y2-y1)**2)\n",
    "    return dist"
   ]
  },
  {
   "cell_type": "code",
   "execution_count": 6,
   "id": "eab22982",
   "metadata": {},
   "outputs": [],
   "source": [
    "def findAngles(x1,y1,x2,y2):\n",
    "    theta = math.acos((-y1)*(y1-y2)/(math.sqrt((x2-x1)**2 + (y2-y1)**2) * y1))\n",
    "    degree = int(180/math.pi) * theta\n",
    "    return degree"
   ]
  },
  {
   "cell_type": "code",
   "execution_count": 8,
   "id": "0b634bc6",
   "metadata": {},
   "outputs": [],
   "source": [
    "# Initialize frame counters.\n",
    "good_frames = 0\n",
    "bad_frames  = 0\n",
    "\n",
    "good_posture_counter = 0\n",
    "\n",
    "# Font type.\n",
    "font = cv2.FONT_HERSHEY_SIMPLEX\n",
    " \n",
    "# Colors.\n",
    "blue = (255, 127, 0)\n",
    "red = (49, 49, 255)\n",
    "green = (127, 255, 0)\n",
    "dark_blue = (127, 20, 0)\n",
    "light_green = (0, 128, 0)\n",
    "yellow = (0, 191, 255)\n",
    "pink = (255, 0, 255)\n"
   ]
  },
  {
   "cell_type": "code",
   "execution_count": 9,
   "id": "481fdb8f",
   "metadata": {},
   "outputs": [
    {
     "name": "stderr",
     "output_type": "stream",
     "text": [
      "INFO: Created TensorFlow Lite XNNPACK delegate for CPU.\n"
     ]
    }
   ],
   "source": [
    "# Initialize mediapipe pose class.\n",
    "mp_pose = mp.solutions.pose\n",
    "pose = mp_pose.Pose(model_complexity=2, min_tracking_confidence = 0.9)\n",
    "\n",
    "input_file = \"../KneeBendVideo.mp4\"\n",
    "cap = cv2.VideoCapture(input_file)\n",
    "\n",
    "# Meta data\n",
    "fps = int(cap.get(cv2.CAP_PROP_FPS))\n",
    "width = int(cap.get(cv2.CAP_PROP_FRAME_WIDTH))\n",
    "height = int(cap.get(cv2.CAP_PROP_FRAME_HEIGHT))\n",
    "frame_size = (width, height)\n",
    "fourcc = cv2.VideoWriter_fourcc(*'mp4v')\n",
    "\n",
    "# Video writer.\n",
    "video_output = cv2.VideoWriter('output.mp4', fourcc, fps, frame_size)\n"
   ]
  },
  {
   "cell_type": "code",
   "execution_count": 10,
   "id": "de3fa7a8",
   "metadata": {
    "tags": []
   },
   "outputs": [
    {
     "name": "stdout",
     "output_type": "stream",
     "text": [
      "No Frames\n",
      "Finished\n"
     ]
    }
   ],
   "source": [
    "while cap.isOpened():\n",
    "    ret, image = cap.read()\n",
    "\n",
    "    if not ret: \n",
    "        print(\"No Frames\")\n",
    "        break\n",
    "    \n",
    "    fps = cap.get(cv2.CAP_PROP_FPS)\n",
    "    h, w = image.shape[:2]\n",
    "\n",
    "    image = cv2.cvtColor(image, cv2.COLOR_BGR2RGB)\n",
    "\n",
    "    keypoints = pose.process(image)\n",
    "\n",
    "    image = cv2.cvtColor(image, cv2.COLOR_RGB2BGR)\n",
    "\n",
    "    lm = keypoints.pose_landmarks\n",
    "    if lm is None: continue\n",
    "    lmPose = mp_pose.PoseLandmark\n",
    "\n",
    "    l_hip_x = int(lm.landmark[lmPose.LEFT_HIP].x * w)\n",
    "    l_hip_y = int(lm.landmark[lmPose.LEFT_HIP].y * h)\n",
    "\n",
    "    l_knee_x = int(lm.landmark[lmPose.LEFT_KNEE].x * w)\n",
    "    l_knee_y = int(lm.landmark[lmPose.LEFT_KNEE].y * h)\n",
    "\n",
    "    l_ankle_x = int(lm.landmark[lmPose.LEFT_ANKLE].x * w)\n",
    "    l_ankle_y = int(lm.landmark[lmPose.LEFT_ANKLE].y * h)\n",
    "    \n",
    "    #Calculate angles\n",
    "    hip_incline = findAngles(l_hip_x, l_hip_y, l_knee_x, l_knee_y) - 90\n",
    "    ankle_incline = 90 - findAngles(l_knee_x, l_knee_y, l_ankle_x, l_ankle_y) \n",
    "    \n",
    "    #Find knee angle value using angle sum property\n",
    "    knee_value = 180 - hip_incline - ankle_incline\n",
    "    \n",
    "    #Plot Circles\n",
    "    cv2.circle(image, (l_hip_x,l_hip_y), 7, yellow, -1)\n",
    "    cv2.circle(image, (l_knee_x,l_knee_y), 7, yellow, -1)\n",
    "    cv2.circle(image, (l_ankle_x,l_ankle_y), 7, yellow, -1)\n",
    "\n",
    "    hip_text = 'Hip Angle: ' + str(int(hip_incline))\n",
    "    ankle_text = 'Ankle Angle: ' + str(int(ankle_incline))\n",
    "    knee_text = 'Knee Angle: ' + str(int(knee_value))\n",
    "    \n",
    "    if knee_value < 140:\n",
    "        good_frames += 1\n",
    "        bad_frames = 0\n",
    "        \n",
    "        # Output angle\n",
    "        #cv2.putText(image, hip_text, (10,50), font, 0.9, light_green, 2)\n",
    "        #cv2.putText(image, ankle_text, (10,80), font, 0.9, light_green, 2)\n",
    "        cv2.putText(image, knee_text, (10,110), font, 0.9, light_green, 2)\n",
    "        \n",
    "        # Join Landmarks\n",
    "        cv2.line(image, (l_hip_x, l_hip_y), (l_knee_x,l_knee_y), green, 4)\n",
    "        cv2.line(image, (l_knee_x,l_knee_y), (l_ankle_x, l_ankle_y), green, 4)\n",
    "    else:\n",
    "        good_frames = 0\n",
    "        bad_frames += 1\n",
    "        \n",
    "        # Output angle\n",
    "        #cv2.putText(image, hip_text, (10,50), font, 0.9, light_green, 2)\n",
    "        #cv2.putText(image, ankle_text, (10,80), font, 0.9, light_green, 2)\n",
    "        cv2.putText(image, knee_text, (10,110), font, 0.9, light_green, 2)\n",
    "        \n",
    "        # Join Landmarks\n",
    "        cv2.line(image, (l_hip_x, l_hip_y), (l_knee_x,l_knee_y), green, 4)\n",
    "        cv2.line(image, (l_knee_x,l_knee_y), (l_ankle_x, l_ankle_y), green, 4)\n",
    "        \n",
    "    \n",
    "    #Calculate the time of remaining in particular posture\n",
    "    good_time = (1/fps) * good_frames\n",
    "    bad_time = (1/fps) * bad_frames\n",
    "    \n",
    "    if good_time > 0:\n",
    "        good_time_string = \"Good Posture time: \" + str(round (good_time, 1)) + 's'\n",
    "        cv2.putText(image, good_time_string, (10,h-30), font, 0.9, green, 2)\n",
    "        \n",
    "        if good_time == 8:\n",
    "            good_posture_counter += 1         \n",
    "        \n",
    "    else:\n",
    "        keep_bent_string = \"Keep your knee bent!\"\n",
    "        cv2.putText(image, keep_bent_string, (10,h-30), font, 1.5, red, 4)\n",
    "\n",
    "    posture_count = \"Number of good postures: \"+str(good_posture_counter)\n",
    "    cv2.putText(image, posture_count, (10,140), font, 0.9, yellow, 2)\n",
    "    \n",
    "    video_output.write(image)\n",
    "    \n",
    "print(\"Finished\")\n",
    "cap.release()\n",
    "video_output.release()"
   ]
  },
  {
   "cell_type": "code",
   "execution_count": null,
   "id": "d82846f5",
   "metadata": {},
   "outputs": [],
   "source": []
  },
  {
   "cell_type": "code",
   "execution_count": null,
   "id": "36f4f856",
   "metadata": {},
   "outputs": [],
   "source": []
  }
 ],
 "metadata": {
  "kernelspec": {
   "display_name": "Python 3 user modules",
   "language": "python",
   "name": "python3-user-modules"
  },
  "language_info": {
   "codemirror_mode": {
    "name": "ipython",
    "version": 3
   },
   "file_extension": ".py",
   "mimetype": "text/x-python",
   "name": "python",
   "nbconvert_exporter": "python",
   "pygments_lexer": "ipython3",
   "version": "3.10.6"
  }
 },
 "nbformat": 4,
 "nbformat_minor": 5
}
